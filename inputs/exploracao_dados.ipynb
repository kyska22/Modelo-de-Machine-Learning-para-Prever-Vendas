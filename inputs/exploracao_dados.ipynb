import pandas as pd
import matplotlib.pyplot as plt
import seaborn as sns
from azureml.core import Workspace, Dataset

# Conectar ao workspace
ws = Workspace.from_config()

# Carregar dados
dataset = Dataset.get_by_name(ws, name='vendas_livros')
df = dataset.to_pandas_dataframe()

# Análise exploratória
print(df.head())
print(df.info())
print(df.describe())

# Gráfico de vendas por mês
plt.figure(figsize=(12,6))
sns.lineplot(x='Mes', y='Vendas', hue='Assunto', data=df, ci=None)
plt.title('Vendas Mensais por Assunto')
plt.xlabel('Mês')
plt.ylabel('Vendas')
plt.grid(True)
plt.show()

# Gráfico de vendas por assunto
plt.figure(figsize=(10,6))
sns.boxplot(x='Assunto', y='Vendas', data=df)
plt.title('Distribuição de Vendas por Assunto')
plt.xticks(rotation=45)
plt.show()

# Vendas médias por mês
vendas_mes = df.groupby('Mes')['Vendas'].mean().reset_index()
plt.figure(figsize=(12,6))
sns.barplot(x='Mes', y='Vendas', data=vendas_mes)
plt.title('Vendas Médias por Mês')
plt.xlabel('Mês')
plt.ylabel('Vendas Médias')
plt.show()
